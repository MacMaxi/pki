{
 "cells": [
  {
   "cell_type": "markdown",
   "id": "66ca8b44",
   "metadata": {},
   "source": [
    "<figure>\n",
    "  <IMG SRC=\"https://upload.wikimedia.org/wikipedia/commons/thumb/d/d5/Fachhochschule_Südwestfalen_20xx_logo.svg/320px-Fachhochschule_Südwestfalen_20xx_logo.svg.png\" WIDTH=250 ALIGN=\"right\">\n",
    "</figure>\n",
    "\n",
    "# Programmierung für KI\n",
    "### Winterersemester 2025/26\n",
    "Prof. Dr. Heiner Giefers"
   ]
  },
  {
   "cell_type": "markdown",
   "id": "5465f8f1",
   "metadata": {
    "deletable": false,
    "editable": false,
    "nbgrader": {
     "grade": false,
     "grade_id": "cell-fe9f344ad04c5690",
     "locked": true,
     "schema_version": 3,
     "solution": false,
     "task": false
    }
   },
   "source": [
    "**Aufgabe 1:** Schreiben Sie ein Programm, dass jede E-Mail-Nachricht danach kategorisiert, an welchem Wochentag sie versendet wurde.\n",
    "\n",
    "Suchen Sie dazu nach Zeilen, die mit <code>From&nbsp;</code> beginnen, suchen Sie dann nach dem dritten Wort und führen Sie eine laufende Zählung der einzelnen Wochentage durch.\n",
    "Am Ende des Programms geben Sie Ihr Dictionarys zurück (die Reihenfolge spielt keine Rolle)."
   ]
  },
  {
   "cell_type": "code",
   "execution_count": 4,
   "id": "05272895",
   "metadata": {
    "deletable": false,
    "nbgrader": {
     "grade": false,
     "grade_id": "cell-5863b0cfcbd0e4b5",
     "locked": false,
     "schema_version": 3,
     "solution": true,
     "task": false
    }
   },
   "outputs": [
    {
     "data": {
      "text/plain": [
       "{'Sat': 1, 'Fri': 20, 'Thu': 6}"
      ]
     },
     "execution_count": 4,
     "metadata": {},
     "output_type": "execute_result"
    }
   ],
   "source": [
    "def count_mails_by_weekday(filename):\n",
    "    with(open(filename, \"r\") as fname):\n",
    "        weekDict = {}\n",
    "        for line in fname:\n",
    "            if \"From \" in line:\n",
    "                weekday = line.split(\" \")[2]\n",
    "                if weekday in weekDict:\n",
    "                    weekDict[weekday] += 1\n",
    "                else:\n",
    "                    weekDict[weekday] = 1\n",
    "        return weekDict\n",
    "fname = \"files/mbox-short.mbox\"\n",
    "count_mails_by_weekday(fname)"
   ]
  },
  {
   "cell_type": "code",
   "execution_count": 21,
   "id": "bd0e1d85",
   "metadata": {
    "deletable": false,
    "editable": false,
    "nbgrader": {
     "grade": true,
     "grade_id": "cell-9cbd479dbf9b0325",
     "locked": true,
     "points": 1,
     "schema_version": 3,
     "solution": false,
     "task": false
    }
   },
   "outputs": [],
   "source": [
    "# Test für die Funktion count_mails_by_weekday\n",
    "from unittest import TestCase\n",
    "_asserts = TestCase()\n",
    "assert_equal = _asserts.assertEqual\n",
    "assert_dict_equal = _asserts.assertDictEqual\n",
    "\n",
    "fname = \"files/mbox-short.mbox\"\n",
    "res = count_mails_by_weekday(fname)\n",
    "\n",
    "assert_equal(3, len(res), \"Es stehen zu viele Werte im dict\")\n",
    "assert_equal(20, res[\"Fri\"], \"Die Zahl für Freitage stimmt nicht\")\n",
    "assert_equal(1, res[\"Sat\"], \"Die Zahl für Samstag stimmt nicht\")\n",
    "assert_equal(6, res[\"Thu\"], \"Die Zahl für Donnerstage stimmt nicht\")"
   ]
  },
  {
   "cell_type": "markdown",
   "id": "1a8874e3",
   "metadata": {
    "deletable": false,
    "editable": false,
    "nbgrader": {
     "grade": false,
     "grade_id": "cell-65448445cf99f529",
     "locked": true,
     "schema_version": 3,
     "solution": false,
     "task": false
    }
   },
   "source": [
    "**Aufgabe 2:** Schreiben Sie ein Programm, um ein E-Mail-Protokoll zu lesen. Erzeugen Sie ein Histogramm mithilfe eines Dictionarys, um zu zählen, wie viele Nachrichten von den einzelnen E-Mail-Adressen gekommen sind. Geben Sie das Dictionary dann zurück."
   ]
  },
  {
   "cell_type": "code",
   "execution_count": 9,
   "id": "39793fb0",
   "metadata": {
    "deletable": false,
    "nbgrader": {
     "grade": false,
     "grade_id": "cell-7442cea4c24e7cff",
     "locked": false,
     "schema_version": 3,
     "solution": true,
     "task": false
    }
   },
   "outputs": [
    {
     "data": {
      "text/plain": [
       "{'stephen.marquard@uct.ac.za': 2,\n",
       " 'louis@media.berkeley.edu': 3,\n",
       " 'zqian@umich.edu': 4,\n",
       " 'rjlowe@iupui.edu': 2,\n",
       " 'cwen@iupui.edu': 5,\n",
       " 'gsilver@umich.edu': 3,\n",
       " 'wagnermr@iupui.edu': 1,\n",
       " 'antranig@caret.cam.ac.uk': 1,\n",
       " 'gopal.ramasammycook@gmail.com': 1,\n",
       " 'david.horwitz@uct.ac.za': 4,\n",
       " 'ray@media.berkeley.edu': 1}"
      ]
     },
     "execution_count": 9,
     "metadata": {},
     "output_type": "execute_result"
    }
   ],
   "source": [
    "def count_mail_adresses_by_weekday(filename):\n",
    "    with(open(filename, \"r\") as fname):\n",
    "        weekDict = {}\n",
    "        for line in fname:\n",
    "            if \"From \" in line:\n",
    "                weekday = line.split(\" \")[1]\n",
    "                if weekday in weekDict:\n",
    "                    weekDict[weekday] += 1\n",
    "                else:\n",
    "                    weekDict[weekday] = 1\n",
    "        return weekDict\n",
    "fname = \"files/mbox-short.mbox\"\n",
    "count_mail_adresses_by_weekday(fname)"
   ]
  },
  {
   "cell_type": "code",
   "execution_count": 10,
   "id": "f38bf146",
   "metadata": {
    "deletable": false,
    "editable": false,
    "nbgrader": {
     "grade": true,
     "grade_id": "cell-6b7600855a664333",
     "locked": true,
     "points": 1,
     "schema_version": 3,
     "solution": false,
     "task": false
    }
   },
   "outputs": [],
   "source": [
    "# Test für die Funktion count_mails_by_weekday\n",
    "\n",
    "\n",
    "fname = \"files/mbox-short.mbox\"\n",
    "res = count_mail_adresses_by_weekday(fname)\n",
    "\n",
    "assert_equal(11, len(res), \"Es stehen zu viele Werte im dict\")\n",
    "assert_equal({'stephen.marquard@uct.ac.za': 2, 'louis@media.berkeley.edu': 3, 'zqian@umich.edu': 4, 'rjlowe@iupui.edu': 2, 'cwen@iupui.edu': 5, 'gsilver@umich.edu': 3, 'wagnermr@iupui.edu': 1, 'antranig@caret.cam.ac.uk': 1, 'gopal.ramasammycook@gmail.com': 1, 'david.horwitz@uct.ac.za': 4, 'ray@media.berkeley.edu': 1},\n",
    "             res, \"Die gezählten E-Mails stimmen nicht.\")"
   ]
  },
  {
   "cell_type": "markdown",
   "id": "5601f375",
   "metadata": {
    "deletable": false,
    "editable": false,
    "nbgrader": {
     "grade": false,
     "grade_id": "cell-fb9cdf20d6d071fb",
     "locked": true,
     "schema_version": 3,
     "solution": false,
     "task": false
    }
   },
   "source": [
    "**Aufgabe 3:** Bauen Sie ihr Programm so um, dass es die E-Mail Adresse mit den meisten Nachrichten zurück gibt.\n",
    "\n",
    "Nachdem alle Daten gelesen und das Dictionary erstellt wurde, durchsuchen Sie das Dictionary mithilfe einer Schleife nach dem Maximum (siehe Kapitel 5: Maximum und Minimum ermitteln), um herauszufinden, wer die meisten Nachrichten hat, und berechnen Sie aus, wie viele Nachrichten die Person bekommen hat.\n",
    "\n",
    "Geben Sie ein Tupel (oder eine Liste) mit 2 Elementen, nämlich dem String der gesuchten E-Mail Adresse und der Anzahl der E-Mails (mit `return`) zurück."
   ]
  },
  {
   "cell_type": "code",
   "execution_count": 17,
   "id": "e4a7b0b7",
   "metadata": {
    "deletable": false,
    "nbgrader": {
     "grade": false,
     "grade_id": "cell-05713fbbe9800a31",
     "locked": false,
     "schema_version": 3,
     "solution": true,
     "task": false
    }
   },
   "outputs": [],
   "source": [
    "def max_count_mail_adresses(filename):\n",
    "    mailDict = count_mail_adresses_by_weekday(filename)\n",
    "    maximum = 0\n",
    "    maxMail = \"\"\n",
    "    for mail,value in mailDict.items():\n",
    "        maximum = max(maximum, value)\n",
    "        if maximum == value:\n",
    "            maxMail = mail\n",
    "    return maxMail, maximum"
   ]
  },
  {
   "cell_type": "code",
   "execution_count": 19,
   "id": "5702bbbd",
   "metadata": {
    "deletable": false,
    "editable": false,
    "nbgrader": {
     "grade": true,
     "grade_id": "cell-114a763e702f3664",
     "locked": true,
     "points": 1,
     "schema_version": 3,
     "solution": false,
     "task": false
    }
   },
   "outputs": [
    {
     "name": "stdout",
     "output_type": "stream",
     "text": [
      "('cwen@iupui.edu', 5)\n"
     ]
    }
   ],
   "source": [
    "# Test für die Funktion  max_count_mails\n",
    "\n",
    "\n",
    "fname = \"files/mbox-short.mbox\"\n",
    "res = max_count_mail_adresses(fname)\n",
    "print(res)\n",
    "\n",
    "assert_equal(\"cwen@iupui.edu\", res[0], \"Die E-Mail Adresse ist falsch\")\n",
    "assert_equal(5, res[1], \"Die E-Mail Anzahl ist falsch\")"
   ]
  },
  {
   "cell_type": "markdown",
   "id": "e2d16139",
   "metadata": {},
   "source": [
    "**Aufgabe 4:** Schreiben Sie ein Programm, das nur den Domänennamen (anstelle der Adresse) aufzeichnet, von dem die Nachricht gesendet wurde. Es soll also nicht aufgezeichnet werden, von welchem konkreten Absender die E-Mail kam (das wäre die gesamte E-Mail-Adresse). Geben Sie am Ende der Funktion `count_mail_domains` das erstellte Dictionary (mit `return`) zurück.\n",
    "\n",
    "*Tipp: irgendwas@domäne*"
   ]
  },
  {
   "cell_type": "code",
   "execution_count": 20,
   "id": "5b7fc202",
   "metadata": {
    "deletable": false,
    "nbgrader": {
     "grade": false,
     "grade_id": "cell-e7bab576cc6e0f06",
     "locked": false,
     "schema_version": 3,
     "solution": true,
     "task": false
    }
   },
   "outputs": [
    {
     "data": {
      "text/plain": [
       "{'uct.ac.za': 6,\n",
       " 'media.berkeley.edu': 4,\n",
       " 'umich.edu': 7,\n",
       " 'iupui.edu': 8,\n",
       " 'caret.cam.ac.uk': 1,\n",
       " 'gmail.com': 1}"
      ]
     },
     "execution_count": 20,
     "metadata": {},
     "output_type": "execute_result"
    }
   ],
   "source": [
    "def count_mail_domains(filename):\n",
    "    with(open(filename, \"r\") as fname):\n",
    "        weekDict = {}\n",
    "        for line in fname:\n",
    "            if \"From \" in line:\n",
    "                weekday = line.split(\" \")[1].split(\"@\")[1]\n",
    "                if weekday in weekDict:\n",
    "                    weekDict[weekday] += 1\n",
    "                else:\n",
    "                    weekDict[weekday] = 1\n",
    "        return weekDict\n",
    "fname = \"files/mbox-short.mbox\"\n",
    "count_mail_domains(fname)"
   ]
  },
  {
   "cell_type": "code",
   "execution_count": 22,
   "id": "458e6e7f",
   "metadata": {
    "deletable": false,
    "editable": false,
    "nbgrader": {
     "grade": true,
     "grade_id": "cell-532e64bcfc40154e",
     "locked": true,
     "points": 1,
     "schema_version": 3,
     "solution": false,
     "task": false
    }
   },
   "outputs": [],
   "source": [
    "# Test für die Funktion  count_mails_by_domains\n",
    "\n",
    "fname = \"files/mbox-short.mbox\"\n",
    "res = count_mail_domains(fname)\n",
    "\n",
    "assert_equal(6, len(res), \"Die Anzahl der Werte ist falsch\")\n",
    "#assert_equal({'uct.ac.za': 6, 'media.berkeley.edu': 4, 'umich.edu': 7, 'iupui.edu': 8, 'caret.cam.ac.uk': 1, 'gmail.com': 1},\n",
    "#             res, \"Die Werte im dict sind falsch\")\n",
    "assert_dict_equal({'uct.ac.za': 6, 'media.berkeley.edu': 4, 'umich.edu': 7, 'iupui.edu': 8, 'caret.cam.ac.uk': 1, 'gmail.com': 1},\n",
    "             res, \"Die Werte im dict sind falsch\")"
   ]
  }
 ],
 "metadata": {
  "kernelspec": {
   "display_name": ".venv",
   "language": "python",
   "name": "python3"
  },
  "language_info": {
   "codemirror_mode": {
    "name": "ipython",
    "version": 3
   },
   "file_extension": ".py",
   "mimetype": "text/x-python",
   "name": "python",
   "nbconvert_exporter": "python",
   "pygments_lexer": "ipython3",
   "version": "3.13.7"
  }
 },
 "nbformat": 4,
 "nbformat_minor": 5
}
