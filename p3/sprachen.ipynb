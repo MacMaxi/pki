{
 "cells": [
  {
   "cell_type": "markdown",
   "metadata": {},
   "source": [
    "<figure>\n",
    "  <IMG SRC=\"https://upload.wikimedia.org/wikipedia/commons/thumb/d/d5/Fachhochschule_Südwestfalen_20xx_logo.svg/320px-Fachhochschule_Südwestfalen_20xx_logo.svg.png\" WIDTH=250 ALIGN=\"right\">\n",
    "</figure>\n",
    "\n",
    "# Programmierung für KI\n",
    "### Winterersemester 2025/26\n",
    "Prof. Dr. Heiner Giefers"
   ]
  },
  {
   "cell_type": "markdown",
   "metadata": {},
   "source": [
    "**Achtung:** Im folgenden Aufgabenblatt sind einige Funktionen enthalten, die Sie zur Lösung der Aufgaben *verwenden* müssen. Sie müssen die Implementierung der Funktionen nicht unbedingt *verstehen*, um sie zu verwenden. Um möglichst viele Aufgaben zu lösen, verwenden Sie die Funktionen einfach \"wie sie sind\" und schauen Sie sich die Details im Nachgang an."
   ]
  },
  {
   "cell_type": "markdown",
   "metadata": {},
   "source": [
    "# Sprache von Texten erkennen\n",
    "\n",
    "In dieser Aufgabe wollen wir uns mit dem Problem beschäftigen, die Sprache zu bestimmen, in der ein gewisser Text verfasst ist.\n",
    "Es gibt verschiedenste Ansätze, dieses Problem zu lösen.\n",
    "Wir werden ein sehr einfaches, Daten-getriebenes Verfahren einsetzen, bei dem die charakteristische *Buchstabenhäufigkeit* einer Sprache verwendet wird.\n",
    "\n",
    "Die Idee ist folgende: In den verschiedenen Sprachen kommen bestimmte Buchstaben unterschiedlich häufig vor.\n",
    "Im Englischen, zum Beispiel, ist das *y* deutlich häufiger als im Deutschen, im Französischen ist das *e* (ohne Akzent) wahrscheinlich seltener als in anderen Sprachen.\n",
    "\n",
    "Wenn wir bestimmen, wie häufig die einzelnen Buchstaben in einer Sprache *im Allgemeinen* vorkommen, haben wir eine Art *Fingerabdruck* der Sprache. Für einen neuen Text, zu dem wir die Sprache nicht kennen, können wir ebenfalls die Buchstabenhäufigkeit berechnen und anschließend diese Verteilung mit allen Sprach-Fingerabdrücken vergleichen. Unsere Annahme ist, dass der Fingerabdruck, zu dem unsere Buchstaben-Verteilung am besten passt, zur Sprache gehört, in der auch der Text verfasst ist.\n",
    "\n",
    "Im Folgenden wollen wir versuchen herauszufinden, ob diese Idee funktioniert. Dazu müssen wir folgende Teilprobleme lösen:\n",
    "\n",
    "1. Wir müssen **Texte in verschiedenen Sprachen beschaffen**. Diese Texte müssen jeweils möglichst repräsentativ für die Sprache sein. Fachtexte oder andere *spezielle* Texte sollten eher vermieden werden.\n",
    "1. Wir müssen in den Texten die Buchstaben analysieren und die **relative Häufigkeit jedes Buchstaben bestimmen**. Dieser Schritt muss für alle Sprachen wiederholt werden.\n",
    "1. Um das Verfahren zu testen, müssen wir neue, diesmal kürzere Textpassagen beschaffen. Wir können die gleichen Funktionen wie im Schritt zuvor verwenden, um die Buchstabenhäufigkeit zu bestimmen.\n",
    "1. Wir benötigen einen Weg um herauszufinden, wie *ähnlich* zwei verschiedene Häufigkeitsverteilungen sind. Wir werden hierfür die **Abweichung zwischen den Verteilungen** bestimmen und das Minimum dieser Abweichungen als Ergebnis auswählen."
   ]
  },
  {
   "cell_type": "markdown",
   "metadata": {},
   "source": [
    "### Schritt 1: Texte in verschiedenen Sprachen beschaffen\n",
    "Um die mittleren Buchstabenhäufigkeiten in den verschiedenen Sprachen zu ermitteln, brauchen wir zunächst einmal **Daten**.\n",
    "Eine recht gute Quelle für Texte in verschiedenen Sprachen, ist [Wikipedia](https://www.wikipedia.org).\n",
    "Von dort werden wir verschiedene, zufällige Seiten in den unterschiedlichen Sprachen aufrufen und den Textinhalt dieser Seiten herunterladen.\n",
    "Für den Zugriff auf Wikipedia Seiten empfiehlt sich die Installation des Python-Pakets *Wikipedia-API*.\n",
    "Falls nicht vorhanden, installieren wir dieses Paket direkt aus dem Notebook heraus."
   ]
  },
  {
   "cell_type": "code",
   "execution_count": 2,
   "metadata": {
    "colab": {
     "base_uri": "https://localhost:8080/"
    },
    "id": "_4FRptYMGtde",
    "outputId": "25af9d89-2421-4abe-979d-f1fd52f7df43"
   },
   "outputs": [],
   "source": [
    "try:\n",
    "    import wikipediaapi\n",
    "except:\n",
    "    import sys\n",
    "    !{sys.executable} -m pip install wikipedia-api"
   ]
  },
  {
   "cell_type": "markdown",
   "metadata": {},
   "source": [
    "In der nächsten Code-Zelle werden die Methoden `random_page` und `random_text` implementiert.\n",
    "`random_text(size,lang)` liefert einen Text mit `size` Zeichen in der Sprache `lang`.\n",
    "Um zufällige Wikipedia-Seiten herunterzuladen wir die Methode `random_page` verwendet.\n",
    "Wikipedia bietet über die URL [wikipedia.org/wiki/Special:Random](http://wikipedia.org/wiki/Special:Random) die Möglichkeit, eine zufällige Seite auszuwählen.\n",
    "Über diese URL holen wir uns den Titel der zufälligen Seite und laden den Inhalt schließlich mit der Wikipedia-API herunter."
   ]
  },
  {
   "cell_type": "code",
   "execution_count": 3,
   "metadata": {
    "id": "ktglnRFmG2j2"
   },
   "outputs": [],
   "source": [
    "import re\n",
    "import requests\n",
    "from bs4 import BeautifulSoup\n",
    "import wikipediaapi\n",
    "\n",
    "def random_page(wiki, lang=\"de\"):\n",
    "    ''' Die Funktion liefert den Inhalt (Text) einer zufälligen \n",
    "    Wikipedia-Seite zurück\n",
    "    \n",
    "    Parameter\n",
    "    --------------------\n",
    "    wiki: Ein \"Wikipedia\"-Objekt des Moduls wikipediaapi\n",
    "    lang: Ein Sprach-Kuerzel, dass die entsprechende Wikipedia-Sprache bezeichnet.\n",
    "          Beispiele sind \"en\" (Englisch), \"de\" (Deutsch), \"es\" (Spanisch), \"fr\" (Französisch).\n",
    "          Default ist \"de\"\n",
    "          \n",
    "    Return\n",
    "    --------------------\n",
    "    Der Inhalt der zufällig ausgewählten Seite\n",
    "    '''\n",
    "    headers = {\n",
    "    'User-Agent': 'Sprachen_erkennen',\n",
    "    }\n",
    "    r = requests.get(\"https://\" + lang + \".wikipedia.org/wiki/Special:Random\", headers=headers)\n",
    "    soup = BeautifulSoup(r.content)\n",
    "    # Schneitet 12 Buchstaben vom Ende ab\n",
    "    # Funktioniert nicht bei allen Sprachen\n",
    "    #page = wiki.page(soup.title.text[:-12])\n",
    "    # Such nach \"Wikip\" im Titel\n",
    "    # Nimm den vorderen Teil ohne \" - \" (3 Buchstaben)\n",
    "    title = soup.title.text.split('Wikip')[0]\n",
    "    page = wiki.page(title[:-3])\n",
    "    assert page.exists(), f\"Die Seite {page} in {lang} ibt es nicht\"\n",
    "    return page.text\n",
    "\n",
    "def random_text(size,lang=\"de\"):\n",
    "    ''' Die Funktion liefert einen von Sonderzeichen bereinigten Text\n",
    "    der länge \"size\" (in Zeichen) in der Sprache \"lang\" zurück\n",
    "    \n",
    "    Parameter\n",
    "    --------------------\n",
    "    zize: Die geforderte Länge des Textes in Zeichen\n",
    "    lang: Ein Sprach-Kuerzel, dass die entsprechende Sprache bezeichnet.\n",
    "          Beispiele sind \"en\" (Englisch), \"de\" (Deutsch), \"es\" (Spanisch), \"fr\" (Französisch).\n",
    "          Default ist \"de\"\n",
    "          \n",
    "    Return\n",
    "    --------------------\n",
    "    String der länge \"size\" in der Sprache \"lang\"\n",
    "    '''\n",
    "    WIKI = wikipediaapi.Wikipedia(\n",
    "        user_agent=\"Sprachen_erkennen\",\n",
    "        language=lang,\n",
    "        extract_format=wikipediaapi.ExtractFormat.WIKI\n",
    "    )\n",
    "    text = ''\n",
    "    while(len(text)<size):\n",
    "        t = random_page(WIKI, lang)\n",
    "        # Übersetze Umlaute\n",
    "        de_table = str.maketrans({'Ä': 'Ae', 'Ö': 'Oe', 'Ü': 'Ue', \n",
    "                          'ä': 'ae', 'ö': 'oe', 'ü': 'ue', 'ß': 'ss'})\n",
    "        t = t.translate(de_table)\n",
    "        # Entferne alles, was kein Buchstabe oder Leerzeichen ist\n",
    "        t_cleaned = re.sub('[^a-zA-Z ]', '', t)\n",
    "        #Alles zu Kleinbuchstaben\n",
    "        t_cleaned = t_cleaned.lower()\n",
    "        text += t_cleaned\n",
    "\n",
    "    return text[:size]\n"
   ]
  },
  {
   "cell_type": "markdown",
   "metadata": {},
   "source": [
    "Wir können nun die Funktion `random_text` verwenden, um einen String mit beliebiger Länge in verschiedenen Sprachen zu erzeugen.\n",
    "Im folgenden Beispiel erzeigen wir einen String `de_text_500` aus dem Deutschen mit genau 500 Zeichen"
   ]
  },
  {
   "cell_type": "code",
   "execution_count": 4,
   "metadata": {},
   "outputs": [
    {
     "name": "stdout",
     "output_type": "stream",
     "text": [
      "hubert muetherich   november  in lippstadt   september  bei krasnoje selo war ein offizier der deutschen luftwaffe und jagdflieger im zweiten weltkriegmuetherich war staffelkapitaen der  staffel des jagdgeschwaders  gruenherz er schoss  feindliche flugzeuge ab und wurde am  august  mit dem ritterkreuz des eisernen kreuzes ausgezeichnet einzelnachweise julius schindler geboren am  mai  in maehrischtruebau schoenhengstgau oesterreichungarn gestorben am  dezember  in great neck new york vereinigte \n"
     ]
    }
   ],
   "source": [
    "de_text_500 = random_text(500,\"de\")\n",
    "print(de_text_500)"
   ]
  },
  {
   "cell_type": "markdown",
   "metadata": {},
   "source": [
    "Zeichenweise durchlaufen, können wir diesen String wie jede Zeichenkette, ganz einfach mit `for`:"
   ]
  },
  {
   "cell_type": "code",
   "execution_count": 5,
   "metadata": {},
   "outputs": [
    {
     "name": "stdout",
     "output_type": "stream",
     "text": [
      "h-u-b-e-r-t- -m-u-e-t-h-e-r-i-c-h- - - -n-o-v-e-m-b-e-r- - -i-n- -l-i-p-p-s-t-a-d-t- - - -s-e-p-t-e-m-b-e-r- - -b-e-i- -k-r-a-s-n-o-j-e- -s-e-l-o- -w-a-r- -e-i-n- -o-f-f-i-z-i-e-r- -d-e-r- -d-e-u-t-s-c-h-e-n- -l-u-f-t-w-a-f-f-e- -u-n-d- -j-a-g-d-f-l-i-e-g-e-r- -i-m- -z-w-e-i-t-e-n- -w-e-l-t-k-r-i-e-g-m-u-e-t-h-e-r-i-c-h- -w-a-r- -s-t-a-f-f-e-l-k-a-p-i-t-a-e-n- -d-e-r- - -s-t-a-f-f-e-l- -d-e-s- -j-a-g-d-g-e-s-c-h-w-a-d-e-r-s- - -g-r-u-e-n-h-e-r-z- -e-r- -s-c-h-o-s-s- - -f-e-i-n-d-l-i-c-h-e- -f-l-u-g-z-e-u-g-e- -a-b- -u-n-d- -w-u-r-d-e- -a-m- - -a-u-g-u-s-t- - -m-i-t- -d-e-m- -r-i-t-t-e-r-k-r-e-u-z- -d-e-s- -e-i-s-e-r-n-e-n- -k-r-e-u-z-e-s- -a-u-s-g-e-z-e-i-c-h-n-e-t- -e-i-n-z-e-l-n-a-c-h-w-e-i-s-e- -j-u-l-i-u-s- -s-c-h-i-n-d-l-e-r- -g-e-b-o-r-e-n- -a-m- - -m-a-i- - -i-n- -m-a-e-h-r-i-s-c-h-t-r-u-e-b-a-u- -s-c-h-o-e-n-h-e-n-g-s-t-g-a-u- -o-e-s-t-e-r-r-e-i-c-h-u-n-g-a-r-n- -g-e-s-t-o-r-b-e-n- -a-m- - -d-e-z-e-m-b-e-r- - -i-n- -g-r-e-a-t- -n-e-c-k- -n-e-w- -y-o-r-k- -v-e-r-e-i-n-i-g-t-e- -"
     ]
    }
   ],
   "source": [
    "for z in de_text_500:\n",
    "    #Drucke jedes Zeichen und danach jeweils ein '-'\n",
    "    print(z,end='-')"
   ]
  },
  {
   "cell_type": "markdown",
   "metadata": {},
   "source": [
    "Um aus der Zeichenkette auf einzelne Worte zu schließen, müssen wir den Text an den stellen der Leerzeichen *aufsplitten*.\n",
    "\n",
    "**Aufgabe:** Verwenden Sie die Funktion `random_text` um einen Englischen Text mit 200 Zeichen zu erzeugen. Teilen Sie den Text in einzelne Worte auf, die in der Liste `worte` abgelegt sind. Die `for`-Schleife durchläuft diese Liste und gibt die einzelnen Worte aus.\n",
    "\n",
    "Die erwartete Ausgabe sieht etwa so aus:\n",
    "```\n",
    "0) mara 1) santangelo 2) was 3) the 4) defending 5) champion 6) however 7) she 8) chose 9) not 10) to 11) compete 12) this 13) yearpetra 14) marti 15) won 16) her 17) maiden 18)  19) title 20) defeating 21) sharon 22) fichman 23) in 24) the 25) final 26)  27) seedsdrawkeyfinalstop 28) halfbottom 29) halfrefer \n",
    "``` \n",
    "\n",
    "Die konkreten Worte kommen dabei aus zufällig ausgewählten Seiten und sind daher i.d.R. unterschiedlich."
   ]
  },
  {
   "cell_type": "code",
   "execution_count": null,
   "metadata": {
    "deletable": false,
    "nbgrader": {
     "grade": true,
     "grade_id": "cell-818d02021f64b1d2",
     "locked": false,
     "points": 0,
     "schema_version": 3,
     "solution": true,
     "task": false
    }
   },
   "outputs": [
    {
     "name": "stdout",
     "output_type": "stream",
     "text": [
      "0) runa 1) is 2) an 3) unincorporated 4) community 5) in 6) nicholas 7) county 8) west 9) virginia 10) united 11) states 12) runa 13) is 14)  15) miles 16)  17) km 18) south 19) of 20) summersvillethe 21) community 22) was 23) named 24) after 25) runa 26) mcclung 27) the 28) sister 29) of 30) an 31) early 32) settler 33) ref "
     ]
    }
   ],
   "source": [
    "worte = None\n",
    "random_text_en_200 = random_text(200,\"en\")\n",
    "worte = random_text_en_200.split(\" \")\n",
    "\n",
    "for i, wort in enumerate(worte):\n",
    "    print(f\"{i}) {wort}\", end=' ')"
   ]
  },
  {
   "cell_type": "markdown",
   "metadata": {},
   "source": [
    "### Schritt 2: Relative Häufigkeiten der Buchstaben bestimmen\n",
    "Uns interessieren aber weniger die Worte, als die einzelnen Buchstaben.\n",
    "\n",
    "**Aufgabe:** Bestimmen Sie die relativen Häufigkeiten der Buchstaben im Text.\n",
    "\n",
    "Dazu verwenden wir ein *Dictionary* `buchstaben`, das zu Anfang leer ist und gehen folgendermaßen vor:\n",
    "1. Wir durchlaufen alle Buchstaben des Textes (wie im Beispiel weiter oben).\n",
    "2. Wir prüfen, ob der aktuelle Buchstabe als *key* im Dictionary vorkommt\n",
    "    1. Falls er nicht vorkommt, fügen wir den Buchstaben als Schlüssel hinzu und setzen den Wert des Schlüssels auf 1.\n",
    "    2. Falls er vorkommt, erhöhen wir den Wert des Eintrags um 1\n",
    "3. Nachdem alle Buchstaben des Textes verarbeitet sind, durchlaufen wir alle Schlüssel des Dictionaries `buchstaben` und teilen jeden Wert durch die Anzahl der Buchstaben im Text. Beispiel: Wenn der Text 1000 Zeichen hat und der Wert `buchstaben['e']` gleich 100 ist, so setzen wir `buchstaben['e']` auf 0.1"
   ]
  },
  {
   "cell_type": "code",
   "execution_count": 13,
   "metadata": {
    "deletable": false,
    "id": "FxxcglRXHbG2",
    "nbgrader": {
     "grade": false,
     "grade_id": "cell-260936f127ecf99f",
     "locked": false,
     "schema_version": 3,
     "solution": true,
     "task": false
    }
   },
   "outputs": [],
   "source": [
    "def letter_frequency(text):\n",
    "    buchstaben = {}\n",
    "    for buchstabe in text:\n",
    "        if buchstabe not in buchstaben:\n",
    "            buchstaben[buchstabe] = 1\n",
    "        else:\n",
    "            buchstaben[buchstabe] += 1\n",
    "    alle_buchstaben = len(text)\n",
    "    for key in buchstaben:\n",
    "        buchstaben[key] /= alle_buchstaben\n",
    "    return buchstaben\n",
    "\n",
    "# print(letter_frequency(\"pizza\"))\n"
   ]
  },
  {
   "cell_type": "code",
   "execution_count": 14,
   "metadata": {
    "deletable": false,
    "editable": false,
    "nbgrader": {
     "grade": true,
     "grade_id": "cell-67923f23edd6a020",
     "locked": true,
     "points": 0,
     "schema_version": 3,
     "solution": false,
     "task": false
    }
   },
   "outputs": [],
   "source": [
    "# Test Zelle\n",
    "test_freq = letter_frequency(\"pizza\")\n",
    "assert 'z' in test_freq\n",
    "assert 'e' not in test_freq\n",
    "assert test_freq['z']==0.4"
   ]
  },
  {
   "cell_type": "markdown",
   "metadata": {},
   "source": [
    "Wir haben nun eine Methode `letter_frequency`, mit der wir die relativen Häufigkeiten der Buchstaben eines Textes bestimmen können.\n",
    "Um einen ersten Eindruck von diesen Häufigkeiten zu bekommen, werden wir ein Säulendiagramm erstellen.\n",
    "Dazu verwenden wir die Bibliothek `matplotlib`"
   ]
  },
  {
   "cell_type": "code",
   "execution_count": 15,
   "metadata": {
    "colab": {
     "base_uri": "https://localhost:8080/",
     "height": 337
    },
    "id": "gIE3WSlHSPtF",
    "outputId": "870cc949-d0d6-4268-e397-b90bee8bdf85"
   },
   "outputs": [
    {
     "name": "stderr",
     "output_type": "stream",
     "text": [
      "Matplotlib is building the font cache; this may take a moment.\n"
     ]
    },
    {
     "data": {
      "image/png": "[encoded data removed]",
      "text/plain": [
       "<Figure size 3000x500 with 1 Axes>"
      ]
     },
     "metadata": {},
     "output_type": "display_data"
    }
   ],
   "source": [
    "import numpy as np\n",
    "import matplotlib.pyplot as plt\n",
    "\n",
    "text = random_text(1000, 'de')\n",
    "buchstaben = letter_frequency(text)\n",
    "\n",
    "plt.figure(figsize=(30,5)) \n",
    "\n",
    "x = range(len(buchstaben))\n",
    "y = list(buchstaben.values())\n",
    "x_ticks = list(buchstaben.keys())\n",
    "plt.bar(x, y, align='center')\n",
    "plt.xticks(x, x_ticks, rotation=0, fontsize=18)\n",
    "plt.show()"
   ]
  },
  {
   "cell_type": "markdown",
   "metadata": {},
   "source": [
    "Wie man sieht, sind die Einträge im Dictionary unsortiert.\n",
    "Weder die Schlüssel noch die Werte folgen einer Ordnung.\n",
    "\n",
    "Um die Buchstabenhäufigkeiten aber später vergleichen zu können, wollen wir einen *Vektor* erzeugen, bei dem Buchstaben immer an gleicher Stelle stehen. Z.B. `a` an Index 0, `b` an Index 1, usw.\n",
    "Eine Idee könnte sein, die Schlüssel zu sortieren.\n",
    "Hierbei ist aber Vorsicht geboten, denn es könnt sein, dass ein Buchstabe im Text nicht vorkommt.\n",
    "In dem Fall, hätte der Vektor zu wenige Einträge.\n",
    "\n",
    "Wir verfolgen daher einen anderen Weg.\n",
    "Über eine `for`-Schleife zählen wir alle Buchstaben von *a* bis *z* auf, schauen nach, ob sie im Dictionary enthalten sind und übernehmen den Wert in eine Liste.\n",
    "Ist der Buchstabe nicht enthalten, übernehmen wir den Wert 0.0 in die Liste.\n",
    "\n",
    "Eine Schleife, die alle Buchstaben durchläuft könnte so aussehen\n",
    "```pypthon\n",
    "for i in range(ord('a'), ord('z')+1):\n",
    "    print(chr(i), end=' ')\n",
    "```\n",
    "\n",
    "`ord('a')` liefert den ASCII Code des Zeichens *a*.\n",
    "So kann die Schleife die ASCII Codes von *a* bis *z* durchlaufen.\n",
    "Im Schleifenrumpf erzeugen wir aus dem ASCII Code mit der Typumwandlung `chr` wieder ein Zeichen."
   ]
  },
  {
   "cell_type": "markdown",
   "metadata": {
    "colab": {
     "base_uri": "https://localhost:8080/"
    },
    "id": "wwhZ1ngWoKLS",
    "outputId": "9c6ac4c4-b398-460d-86a7-73fba54a1d14"
   },
   "source": [
    "**Aufgabe:** Schreiben Sie eine Funktion `frequency_vector(d)`, die aus einem Dictionary `d` ein Tupel mit 26 Einträgen erzeugt, in denen jeweils die relative Häufigkeit der Buchstaben von  *a* bis *z* im Text steht."
   ]
  },
  {
   "cell_type": "code",
   "execution_count": 17,
   "metadata": {
    "deletable": false,
    "id": "nkQo4k0mRWDH",
    "nbgrader": {
     "grade": false,
     "grade_id": "cell-ae2b2ed6957dc9db",
     "locked": false,
     "schema_version": 3,
     "solution": true,
     "task": false
    }
   },
   "outputs": [],
   "source": [
    "def frequency_vector(d):\n",
    "    f = []\n",
    "    for i in range(ord('a'), ord('z')+1):\n",
    "        letter = chr(i)\n",
    "        if letter in d: \n",
    "            f.append(d[letter])\n",
    "        else: \n",
    "            f.append(0.0)\n",
    "    return tuple(f)\n",
    "    \n",
    "#frequency_vector({'a': 0.5, 'd': 0.5})"
   ]
  },
  {
   "cell_type": "code",
   "execution_count": 18,
   "metadata": {
    "deletable": false,
    "editable": false,
    "nbgrader": {
     "grade": true,
     "grade_id": "cell-2b3f51178f65f3ba",
     "locked": true,
     "points": 0,
     "schema_version": 3,
     "solution": false,
     "task": false
    }
   },
   "outputs": [],
   "source": [
    "# Test Zelle\n",
    "test_d = {'a': 0.5, 'd': 0.5}\n",
    "test_l = [0.0]*26\n",
    "test_l[0]=0.5\n",
    "test_l[3]=0.5\n",
    "assert frequency_vector(test_d)==tuple(test_l)"
   ]
  },
  {
   "cell_type": "markdown",
   "metadata": {},
   "source": [
    "In der folgenden Code-Zelle werden die zuvor entwickelten Funktionen verwendet, um die relativen Häufigkeiten der Buchstaben in den Sprachen *Deutsch*, *Englisch*, *Spanisch* und *Französisch* zu bestimmen.\n",
    "Wir verwenden dazu jeweils 10000 Zeichen aus Wikipedia Artikeln.\n",
    "Die Resultate werden im Dictionary `haeufigkeiten` unter den Schlüsseln `'de'`, `'en'`, `'es'` und `'fr'` abgelegt."
   ]
  },
  {
   "cell_type": "code",
   "execution_count": 19,
   "metadata": {
    "colab": {
     "base_uri": "https://localhost:8080/"
    },
    "id": "bOjMsTNGqXvg",
    "outputId": "9a45dd4f-222e-439f-f542-b5ccddf0e008"
   },
   "outputs": [],
   "source": [
    "languages = ['de', 'en', 'es', 'fr']\n",
    "\n",
    "def get_lang_freq(lang):\n",
    "    text = random_text(10000, lang)\n",
    "    buchstaben = letter_frequency(text)\n",
    "    return frequency_vector(buchstaben)\n",
    "\n",
    "haeufigkeiten = {}\n",
    "for l in languages:\n",
    "    haeufigkeiten[l] = get_lang_freq(l)"
   ]
  },
  {
   "cell_type": "markdown",
   "metadata": {},
   "source": [
    "### Schritt 3: Textpassage in einer Sprachen beschaffen\n",
    "\n",
    "Nun haben wir verschiedene Vektoren, die wir als Maßstab für die einzelnen Sprachen verwenden können.\n",
    "Als Nächstes wollen wir überprüfen, ob wir diese Vektoren verwenden können, um für einen neuen Text vorherzusagen, in welcher Sprache er geschrieben ist.\n",
    "\n",
    "Dazu definiert die folgende Code-Zelle die Funktion `get_page_freq`, mit der wir den Inhalt einer speziellen Wikipedia-Seite herunterladen und die relative Häufigkeit der Buchstaben in dieser Seite berechnen können."
   ]
  },
  {
   "cell_type": "code",
   "execution_count": 20,
   "metadata": {
    "colab": {
     "base_uri": "https://localhost:8080/"
    },
    "id": "LnktjcNbs6gB",
    "outputId": "01522105-ddfa-4315-e067-312468d7d470"
   },
   "outputs": [],
   "source": [
    "def get_wiki_page(term, lang='de'): \n",
    "    WIKI = wikipediaapi.Wikipedia(\n",
    "          user_agent=\"Sprachen_erkennen\",\n",
    "          language=lang,\n",
    "          extract_format=wikipediaapi.ExtractFormat.WIKI\n",
    "    )\n",
    "    page = WIKI.page(term)\n",
    "    assert page.exists()\n",
    "    t = page.text\n",
    "    # Umlaute entfernen\n",
    "    de_table = str.maketrans({'Ä': 'Ae', 'Ö': 'Oe', 'Ü': 'Ue', \n",
    "                    'ä': 'ae', 'ö': 'oe', 'ü': 'ue', 'ß': 'ss'})\n",
    "    t = t.translate(de_table)\n",
    "    # Entferne alles, was kein Buchstabe oder Leerzeichen ist\n",
    "    t_cleaned = re.sub('[^a-zA-Z ]', '', t)\n",
    "    #Alles zu Kleinbuchstaben\n",
    "    return t_cleaned\n",
    "\n",
    "\n",
    "def get_page_freq(term, lang='de'):\n",
    "    text = get_wiki_page(term, lang=lang)\n",
    "    buchstaben = letter_frequency(text)\n",
    "    return frequency_vector(buchstaben)\n",
    "\n",
    "mypage = get_page_freq(\"Hochschule\")"
   ]
  },
  {
   "cell_type": "markdown",
   "metadata": {},
   "source": [
    "### Schritt 4: Häufigkeiten vergleichen (Fehler bestimmen)"
   ]
  },
  {
   "cell_type": "markdown",
   "metadata": {},
   "source": [
    "An dieser Stelle haben wir fünf Vektoren, je einen, der die Häufigkeiten der Buchstaben in den Sprachen *Deutsch*, *Englisch*, *Spanisch* und *Französisch* beschreibt sowie einen weiteren, mit den relativen Häufigkeiten der Buchstaben in *unserem* Text.\n",
    "Nun wollen wir ausrechnen, zu welchem der vier Sprach-Vektoren unser Buchstaben-Vektor *am ähnlichsten* ist, bzw. zu welchem Sprach-Vektor er die wenigsten Unterschiede aufweist.\n",
    "\n",
    "Wir werden also die einzelnen Buchstaben-Häufigkeiten in unserem Vektor mit denen im Sprach-Vektor *vergleichen*.\n",
    "Mathematisch gesehen, bilden wir die Differenz der Häufigkeiten aller einzelnen Buchstaben.\n",
    "Kommt z.B. in unserem Text das *e* zu 10% und im Sprach-Vektor zu 8% vor, so ist die Abweichung $0.1-0.08=0.02$ für den Buchstaben *e*.\n",
    "\n",
    "Die folgende Abbildung zeigt ein Beispiel anhand zweier Sprachen und den Buchstaben *a, e, i, o, u*.\n",
    "Vergleicht man die Häufigkeiten der Sprachen *1* und *2* jeweils mit der Häufigkeit der Buchstaben im Text, so ergibt sich für jeden Buchstaben ein Fehler. Da der Fehler für die \"gelbe\" Sprache geringer ist, gehen wir davon aus, dass der Text mit einer höheren *Wahrscheinlichkeit* zur (\"gelben\") Sprache 2 als zur (\"blauen\") Sprache 1 gehört.\n",
    "\n",
    "![](https://github.com/fhswf/datasets/raw/main/images/letterfreq.png)\n",
    "\n",
    "Wenn wir nun alle Abweichungen aufsummieren, kann es zu einem Problem kommen.\n",
    "Manche Differenzen werden positiv, andere negativ sein.\n",
    "Eine einfache Summe wird die negativen und positiven Abweichungen gegeneinander aufrechen.\n",
    "\n",
    "Um dieses Problem zu beheben, gibt es verschiedene Möglichkeiten.\n",
    "Man kann die Absolutwerte der Abweichungen aufsummieren, oder auch deren Quadratwerte.\n",
    "In jedem Fall wird die Summe am Ende durch die Anzahl der Einträge des Vektors geteilt, um den Mittleren Fehler zu berechnen.\n",
    "\n",
    "Verwendet man zum Berechnung die Absolutwerte, nennt man das Maß [*Mittlerer absoluter Fehler*](https://de.wikipedia.org/wiki/Mittlerer_absoluter_Fehler) (oder *mean absolute error*), verwendet man die Fehlerquadrate heißt das Maß [*Mittlerer quadratischer Fehler*](https://de.wikipedia.org/wiki/Mittlere_quadratische_Abweichung) (oder *mean squared error*)."
   ]
  },
  {
   "cell_type": "markdown",
   "metadata": {},
   "source": [
    "**Aufgabe:** Implementieren Sie die Funktion `mse` zur Berechnung des Mittleren Quadratischen Fehlers. \n",
    "\n",
    "*Hinweise:*\n",
    "- Die Funktion soll zwei mit `for` iterierbare Objekte `a` und `b` (z.B. *Listen* oder *Tupel*) gleicher Länge als Parameter übergeben bekommen.\n",
    "- Die Funktion berechnet die Differenzen der Werte an gleichen Index-Positionen.\n",
    "- Da diese Differenten positiv oder negativ sein können, bilden wir jeweils das Quadrat und summieren diese quadrierten Fehler-Werte auf.\n",
    "- Am Ende soll die Funktion den Mittleren quadratischen Fehler mit `return` zurückgeben.\n",
    "\n",
    "*Beispiel:* Für die Beiden Listen `x` und `y` ist der mittlere quadratische Fehler gleich 2:\n",
    "```\n",
    "x = [1,2,3,5]\n",
    "y = [3,2,5,5]\n",
    "```\n",
    "\n",
    "$\\text{MSE} = \\frac{(1-3)^2 + (2-2)^2 + (3-5)^2 + (5-5)^2}{4} = \\frac{(-2)^2 + 0^2 + (-2)^2 + 0^2}{4} = \\frac{4 + 0 + 4 + 0}{4} = \\frac{8}{4} = 2$ \n"
   ]
  },
  {
   "cell_type": "code",
   "execution_count": 21,
   "metadata": {
    "colab": {
     "base_uri": "https://localhost:8080/"
    },
    "deletable": false,
    "id": "jBuvWTb0uNn3",
    "nbgrader": {
     "grade": false,
     "grade_id": "cell-60f82f7410b211c4",
     "locked": false,
     "schema_version": 3,
     "solution": true,
     "task": false
    },
    "outputId": "cd140542-1727-486c-caaa-dff6c55c9ad1"
   },
   "outputs": [
    {
     "data": {
      "text/plain": [
       "1.6"
      ]
     },
     "execution_count": 21,
     "metadata": {},
     "output_type": "execute_result"
    }
   ],
   "source": [
    "def mse(a,b):\n",
    "    zaehler = 0\n",
    "    nenner = len(a)\n",
    "    for index, value in enumerate(a):\n",
    "        zaehler += (value - b[index])**2\n",
    "    return zaehler / nenner\n",
    "                \n",
    "mse([1,2,3,4,5],[3,2,5,4,5])"
   ]
  },
  {
   "cell_type": "code",
   "execution_count": 22,
   "metadata": {
    "deletable": false,
    "editable": false,
    "nbgrader": {
     "grade": true,
     "grade_id": "cell-2c575835a514bcce",
     "locked": true,
     "points": 0,
     "schema_version": 3,
     "solution": false,
     "task": false
    }
   },
   "outputs": [],
   "source": [
    "# Test Zelle\n",
    "a = [1,2,3,4,5]\n",
    "b = [3,2,5,4,5]\n",
    "assert mse(a,b)==1.6"
   ]
  },
  {
   "cell_type": "markdown",
   "metadata": {},
   "source": [
    "Nun können wir unsere Vektoren vergleichen und herausfinden, zu welcher Sprache unser Vektor am ähnlichsten ist."
   ]
  },
  {
   "cell_type": "code",
   "execution_count": 23,
   "metadata": {
    "colab": {
     "base_uri": "https://localhost:8080/"
    },
    "id": "ItgkQgDUv4DQ",
    "outputId": "47cc177e-d140-4277-c44b-a2d9c9fa7678"
   },
   "outputs": [
    {
     "data": {
      "text/plain": [
       "{'de': 30.16210048784816,\n",
       " 'en': 25.311370610168197,\n",
       " 'es': 19.045948819228578,\n",
       " 'fr': 25.48058008275506}"
      ]
     },
     "execution_count": 23,
     "metadata": {},
     "output_type": "execute_result"
    }
   ],
   "source": [
    "def get_prop(mypage, languages):\n",
    "    fehler = {}\n",
    "    for l in languages:\n",
    "        fehler[l] = mse(mypage,languages[l])\n",
    "\n",
    "    fehlersumme = sum(fehler.values())\n",
    "\n",
    "    props = {}\n",
    "    for f in fehler:\n",
    "        props[f] = 100-fehler[f]*100/fehlersumme\n",
    "\n",
    "\n",
    "    prop_sum = sum(props.values())\n",
    "\n",
    "    for f in props:\n",
    "        props[f] = props[f]*100/prop_sum\n",
    "\n",
    "    return props\n",
    "\n",
    "p = get_prop(mypage, haeufigkeiten)\n",
    "p"
   ]
  },
  {
   "cell_type": "markdown",
   "metadata": {
    "id": "SR1mFXq8v1SP"
   },
   "source": [
    "Das Dictionary `p` enthält die berechneten Wahrscheinlichkeiten, mit denen der Text in den jeweiligen Sprachen verfasst ist.\n",
    "Man sollte sehen, dass bei einem deutschen Text, der key `'de'` den höchsten Wert enthält. "
   ]
  },
  {
   "cell_type": "markdown",
   "metadata": {},
   "source": [
    "### Ausblick: n-Gramme statt Buchstaben verwenden"
   ]
  },
  {
   "cell_type": "markdown",
   "metadata": {},
   "source": [
    "Wie man sieht, ist die Häufigkeit der verschiedenen Buchstaben ein mögliches Vorhersagekriterium, allerdings kein sehr gutes. Die Wahrscheinlichkeiten für Deutsch und Englisch sind i.d.R. nicht sehr verschieden.\n",
    "\n",
    "Um das Verfahren zu verbessern, könnte man statt einzelne Buchstaben ganze Worte betrachten.\n",
    "Oder alternativ dazu, Sequenzen von $n$ aufeinanderfolgenden Buchstaben, den sogenannten [n-Grammen](https://de.wikipedia.org/wiki/N-Gramm).\n",
    "\n",
    "Wenn man einen Text auf n-Gramme untersucht, betrachtet man Folgen von $n$ Buchstaben von jedem Buchstaben aus.\n",
    "In der folgenden Code-Zelle verwenden wir das Wort *Waschmaschine* als Beispiel.\n",
    "Das Wort hat 13 Buchstaben und besitzt damit 11 Trigramme (3-Gramme) von denen eines (das *sch*) doppelt vorkommt."
   ]
  },
  {
   "cell_type": "code",
   "execution_count": null,
   "metadata": {},
   "outputs": [
    {
     "data": {
      "text/plain": [
       "['wasc',\n",
       " 'asch',\n",
       " 'schm',\n",
       " 'chma',\n",
       " 'hmas',\n",
       " 'masc',\n",
       " 'asch',\n",
       " 'schi',\n",
       " 'chin',\n",
       " 'hine']"
      ]
     },
     "execution_count": 25,
     "metadata": {},
     "output_type": "execute_result"
    }
   ],
   "source": [
    "wort = 'waschmaschine'\n",
    "def n_gramm(wort, n =3):\n",
    "    return [wort[i:i+n] for i in range(len(wort)-n + 1)]\n"
   ]
  },
  {
   "cell_type": "markdown",
   "metadata": {},
   "source": [
    "**Aufgabe:** \n",
    "1. Generieren Sie einen zufälligen Text mit 2000 Zeichen\n",
    "2. Teilen Sie den Text so auf, dass Sie die einzelnen Worte in einer Liste ablegen. Berechnen Sie die 3-Gramme für alle Worte im Text und speichern Sie die 3-Gramme in einer Liste\n",
    "3. Es sollen nur die 3-Gramme betrachtet werden. D.h, wenn ein Wort weniger als 3 Buchstaben besitzt, nehmen Sie es nicht in die Liste auf\n",
    "4. Geben Sie die Anzahl aller 3-Gramme aus, die in ihrem Text enthalten sind\n",
    "5. Geben Sie die Anzahl aller eindeutigen 3-Gramme aus, d.h. ohne doppelte Vorkommen"
   ]
  },
  {
   "cell_type": "code",
   "execution_count": 40,
   "metadata": {
    "deletable": false,
    "nbgrader": {
     "grade": true,
     "grade_id": "cell-9d095194ccd96d1f",
     "locked": false,
     "points": 0,
     "schema_version": 3,
     "solution": true,
     "task": false
    }
   },
   "outputs": [
    {
     "name": "stdout",
     "output_type": "stream",
     "text": [
      "2. & 3.: das castello di panocchia ist eine spaetmittelalterliche niederungsburg neben der kirche san donnino in panocchia einem ortsteil von parma in der italienischen region emiliaromagna sie liegt in der via campana geschichtedie burg deren geschichte nahezu unbekannt ist wurde vermutlich zwischen dem ende des  und dem beginn des  jahrhunderts im auftrag der grafen cantelli lehensleute von panocchia errichtet die familie besass schon spaetestens ab  ein gebaeude in der siedlungnach dem tod des letzten grafen paolo cantelli  erbte der markgraf alfonso bevilacqua der grossneffe des erblassers das gebaeude und fuegte seinem eigenen familiennamen den seines grossonkels hinzudas gebaeude das mehrmals umgebaut wurde wurde zur sommerresidenz der familie die dort verschiedene bekannte persoenlichkeiten zu gast hatte darunter den dichter carlo innocenzo frugoni der in einem seiner werke seinen dortigen aufenthalt aufgeschrieben hatbeschreibungdas gebaeude das resultat von umbauarbeiten ueber die jahrhunderte hat einen lfoermigen grundriss mit zwei grossen tuermen aus dem  jahrhundert mit rechteckigem grundriss die am entfernten ende der langseite liegen parallel zur strasse und einen hoeheren schlanken turm in der mitte des suedfluegelsdie fassaden aus stein und mauerziegeln sind durch die anschraegung im unteren teil und durch zwei vorspringende gesimse in den beiden stockwerken gekennzeichnet unten an den tuermen befinden sich breite eingangsportale mit rundboegen wogegen sie oben eine reihe von hohen konsolen habeneinzelnachweisequellenantonio frizzi memorie storiche della nobile famiglia bevilacqua reale stamperia parma  abgerufen am  dezember  italienisch carlo innocenzo frugoni poesie dellabate carlo innocenzo frugoni fra gli arcadi comante eginetigo tomo  bei francesco bonsignori lucca angelo pezzana storia della citt di parma continuata  tomo ducale tipografia parma  weblinks das qarassaistadion kasachisch   karasa stadony russisch   stadion karassai ist ein fussball und l\n",
      "None\n",
      "2. & 3.: ['das', 'cas', 'ast', 'ste', 'tel', 'ell', 'llo', 'pan', 'ano', 'noc', 'occ', 'cch', 'chi', 'hia', 'ist', 'ein', 'ine', 'spa', 'pae', 'aet', 'etm', 'tmi', 'mit', 'itt', 'tte', 'tel', 'ela', 'lal', 'alt', 'lte', 'ter', 'erl', 'rli', 'lic', 'ich', 'che', 'nie', 'ied', 'ede', 'der', 'eru', 'run', 'ung', 'ngs', 'gsb', 'sbu', 'bur', 'urg', 'neb', 'ebe', 'ben', 'der', 'kir', 'irc', 'rch', 'che', 'san', 'don', 'onn', 'nni', 'nin', 'ino', 'pan', 'ano', 'noc', 'occ', 'cch', 'chi', 'hia', 'ein', 'ine', 'nem', 'ort', 'rts', 'tst', 'ste', 'tei', 'eil', 'von', 'par', 'arm', 'rma', 'der', 'ita', 'tal', 'ali', 'lie', 'ien', 'eni', 'nis', 'isc', 'sch', 'che', 'hen', 'reg', 'egi', 'gio', 'ion', 'emi', 'mil', 'ili', 'lia', 'iar', 'aro', 'rom', 'oma', 'mag', 'agn', 'gna', 'sie', 'lie', 'ieg', 'egt', 'der', 'via', 'cam', 'amp', 'mpa', 'pan', 'ana', 'ges', 'esc', 'sch', 'chi', 'hic', 'ich', 'cht', 'hte', 'ted', 'edi', 'die', 'bur', 'urg', 'der', 'ere', 'ren', 'ges', 'esc', 'sch', 'chi', 'hic', 'ich', 'cht', 'hte', 'nah', 'ahe', 'hez', 'ezu', 'unb', 'nbe', 'bek', 'eka', 'kan', 'ann', 'nnt', 'ist', 'wur', 'urd', 'rde', 'ver', 'erm', 'rmu', 'mut', 'utl', 'tli', 'lic', 'ich', 'zwi', 'wis', 'isc', 'sch', 'che', 'hen', 'dem', 'end', 'nde', 'des', 'und', 'dem', 'beg', 'egi', 'gin', 'inn', 'des', 'jah', 'ahr', 'hrh', 'rhu', 'hun', 'und', 'nde', 'der', 'ert', 'rts', 'auf', 'uft', 'ftr', 'tra', 'rag', 'der', 'gra', 'raf', 'afe', 'fen', 'can', 'ant', 'nte', 'tel', 'ell', 'lli', 'leh', 'ehe', 'hen', 'ens', 'nsl', 'sle', 'leu', 'eut', 'ute', 'von', 'pan', 'ano', 'noc', 'occ', 'cch', 'chi', 'hia', 'err', 'rri', 'ric', 'ich', 'cht', 'hte', 'tet', 'die', 'fam', 'ami', 'mil', 'ili', 'lie', 'bes', 'esa', 'sas', 'ass', 'sch', 'cho', 'hon', 'spa', 'pae', 'aet', 'ete', 'tes', 'est', 'ste', 'ten', 'ens', 'ein', 'geb', 'eba', 'bae', 'aeu', 'eud', 'ude', 'der', 'sie', 'ied', 'edl', 'dlu', 'lun', 'ung', 'ngn', 'gna', 'nac', 'ach', 'dem', 'tod', 'des', 'let', 'etz', 'tzt', 'zte', 'ten', 'gra', 'raf', 'afe', 'fen', 'pao', 'aol', 'olo', 'can', 'ant', 'nte', 'tel', 'ell', 'lli', 'erb', 'rbt', 'bte', 'der', 'mar', 'ark', 'rkg', 'kgr', 'gra', 'raf', 'alf', 'lfo', 'fon', 'ons', 'nso', 'bev', 'evi', 'vil', 'ila', 'lac', 'acq', 'cqu', 'qua', 'der', 'gro', 'ros', 'oss', 'ssn', 'sne', 'nef', 'eff', 'ffe', 'des', 'erb', 'rbl', 'bla', 'las', 'ass', 'sse', 'ser', 'ers', 'das', 'geb', 'eba', 'bae', 'aeu', 'eud', 'ude', 'und', 'fue', 'ueg', 'egt', 'gte', 'sei', 'ein', 'ine', 'nem', 'eig', 'ige', 'gen', 'ene', 'nen', 'fam', 'ami', 'mil', 'ili', 'lie', 'ien', 'enn', 'nna', 'nam', 'ame', 'men', 'den', 'sei', 'ein', 'ine', 'nes', 'gro', 'ros', 'oss', 'sso', 'son', 'onk', 'nke', 'kel', 'els', 'hin', 'inz', 'nzu', 'zud', 'uda', 'das', 'geb', 'eba', 'bae', 'aeu', 'eud', 'ude', 'das', 'meh', 'ehr', 'hrm', 'rma', 'mal', 'als', 'umg', 'mge', 'geb', 'eba', 'bau', 'aut', 'wur', 'urd', 'rde', 'wur', 'urd', 'rde', 'zur', 'som', 'omm', 'mme', 'mer', 'err', 'rre', 'res', 'esi', 'sid', 'ide', 'den', 'enz', 'der', 'fam', 'ami', 'mil', 'ili', 'lie', 'die', 'dor', 'ort', 'ver', 'ers', 'rsc', 'sch', 'chi', 'hie', 'ied', 'ede', 'den', 'ene', 'bek', 'eka', 'kan', 'ann', 'nnt', 'nte', 'per', 'ers', 'rso', 'soe', 'oen', 'enl', 'nli', 'lic', 'ich', 'chk', 'hke', 'kei', 'eit', 'ite', 'ten', 'gas', 'ast', 'hat', 'att', 'tte', 'dar', 'aru', 'run', 'unt', 'nte', 'ter', 'den', 'dic', 'ich', 'cht', 'hte', 'ter', 'car', 'arl', 'rlo', 'inn', 'nno', 'noc', 'oce', 'cen', 'enz', 'nzo', 'fru', 'rug', 'ugo', 'gon', 'oni', 'der', 'ein', 'ine', 'nem', 'sei', 'ein', 'ine', 'ner', 'wer', 'erk', 'rke', 'sei', 'ein', 'ine', 'nen', 'dor', 'ort', 'rti', 'tig', 'ige', 'gen', 'auf', 'ufe', 'fen', 'ent', 'nth', 'tha', 'hal', 'alt', 'auf', 'ufg', 'fge', 'ges', 'esc', 'sch', 'chr', 'hri', 'rie', 'ieb', 'ebe', 'ben', 'hat', 'atb', 'tbe', 'bes', 'esc', 'sch', 'chr', 'hre', 'rei', 'eib', 'ibu', 'bun', 'ung', 'ngd', 'gda', 'das', 'geb', 'eba', 'bae', 'aeu', 'eud', 'ude', 'das', 'res', 'esu', 'sul', 'ult', 'lta', 'tat', 'von', 'umb', 'mba', 'bau', 'aua', 'uar', 'arb', 'rbe', 'bei', 'eit', 'ite', 'ten', 'ueb', 'ebe', 'ber', 'die', 'jah', 'ahr', 'hrh', 'rhu', 'hun', 'und', 'nde', 'der', 'ert', 'rte', 'hat', 'ein', 'ine', 'nen', 'lfo', 'foe', 'oer', 'erm', 'rmi', 'mig', 'ige', 'gen', 'gru', 'run', 'und', 'ndr', 'dri', 'ris', 'iss', 'mit', 'zwe', 'wei', 'gro', 'ros', 'oss', 'sse', 'sen', 'tue', 'uer', 'erm', 'rme', 'men', 'aus', 'dem', 'jah', 'ahr', 'hrh', 'rhu', 'hun', 'und', 'nde', 'der', 'ert', 'mit', 'rec', 'ech', 'cht', 'hte', 'tec', 'eck', 'cki', 'kig', 'ige', 'gem', 'gru', 'run', 'und', 'ndr', 'dri', 'ris', 'iss', 'die', 'ent', 'ntf', 'tfe', 'fer', 'ern', 'rnt', 'nte', 'ten', 'end', 'nde', 'der', 'lan', 'ang', 'ngs', 'gse', 'sei', 'eit', 'ite', 'lie', 'ieg', 'ege', 'gen', 'par', 'ara', 'ral', 'all', 'lle', 'lel', 'zur', 'str', 'tra', 'ras', 'ass', 'sse', 'und', 'ein', 'ine', 'nen', 'hoe', 'oeh', 'ehe', 'her', 'ere', 'ren', 'sch', 'chl', 'hla', 'lan', 'ank', 'nke', 'ken', 'tur', 'urm', 'der', 'mit', 'itt', 'tte', 'des', 'sue', 'ued', 'edf', 'dfl', 'flu', 'lue', 'ueg', 'ege', 'gel', 'els', 'lsd', 'sdi', 'die', 'fas', 'ass', 'ssa', 'sad', 'ade', 'den', 'aus', 'ste', 'tei', 'ein', 'und', 'mau', 'aue', 'uer', 'erz', 'rzi', 'zie', 'ieg', 'ege', 'gel', 'eln', 'sin', 'ind', 'dur', 'urc', 'rch', 'die', 'ans', 'nsc', 'sch', 'chr', 'hra', 'rae', 'aeg', 'egu', 'gun', 'ung', 'unt', 'nte', 'ter', 'ere', 'ren', 'tei', 'eil', 'und', 'dur', 'urc', 'rch', 'zwe', 'wei', 'vor', 'ors', 'rsp', 'spr', 'pri', 'rin', 'ing', 'nge', 'gen', 'end', 'nde', 'ges', 'esi', 'sim', 'ims', 'mse', 'den', 'bei', 'eid', 'ide', 'den', 'sto', 'toc', 'ock', 'ckw', 'kwe', 'wer', 'erk', 'rke', 'ken', 'gek', 'eke', 'ken', 'enn', 'nnz', 'nze', 'zei', 'eic', 'ich', 'chn', 'hne', 'net', 'unt', 'nte', 'ten', 'den', 'tue', 'uer', 'erm', 'rme', 'men', 'bef', 'efi', 'fin', 'ind', 'nde', 'den', 'sic', 'ich', 'bre', 'rei', 'eit', 'ite', 'ein', 'ing', 'nga', 'gan', 'ang', 'ngs', 'gsp', 'spo', 'por', 'ort', 'rta', 'tal', 'ale', 'mit', 'run', 'und', 'ndb', 'dbo', 'boe', 'oeg', 'ege', 'gen', 'wog', 'oge', 'geg', 'ege', 'gen', 'sie', 'obe', 'ben', 'ein', 'ine', 'rei', 'eih', 'ihe', 'von', 'hoh', 'ohe', 'hen', 'kon', 'ons', 'nso', 'sol', 'ole', 'len', 'hab', 'abe', 'ben', 'ene', 'nei', 'ein', 'inz', 'nze', 'zel', 'eln', 'lna', 'nac', 'ach', 'chw', 'hwe', 'wei', 'eis', 'ise', 'seq', 'equ', 'que', 'uel', 'ell', 'lle', 'len', 'ena', 'nan', 'ant', 'nto', 'ton', 'oni', 'nio', 'fri', 'riz', 'izz', 'zzi', 'mem', 'emo', 'mor', 'ori', 'rie', 'sto', 'tor', 'ori', 'ric', 'ich', 'che', 'del', 'ell', 'lla', 'nob', 'obi', 'bil', 'ile', 'fam', 'ami', 'mig', 'igl', 'gli', 'lia', 'bev', 'evi', 'vil', 'ila', 'lac', 'acq', 'cqu', 'qua', 'rea', 'eal', 'ale', 'sta', 'tam', 'amp', 'mpe', 'per', 'eri', 'ria', 'par', 'arm', 'rma', 'abg', 'bge', 'ger', 'eru', 'ruf', 'ufe', 'fen', 'dez', 'eze', 'zem', 'emb', 'mbe', 'ber', 'ita', 'tal', 'ali', 'lie', 'ien', 'eni', 'nis', 'isc', 'sch', 'car', 'arl', 'rlo', 'inn', 'nno', 'noc', 'oce', 'cen', 'enz', 'nzo', 'fru', 'rug', 'ugo', 'gon', 'oni', 'poe', 'oes', 'esi', 'sie', 'del', 'ell', 'lla', 'lab', 'aba', 'bat', 'ate', 'car', 'arl', 'rlo', 'inn', 'nno', 'noc', 'oce', 'cen', 'enz', 'nzo', 'fru', 'rug', 'ugo', 'gon', 'oni', 'fra', 'gli', 'arc', 'rca', 'cad', 'adi', 'com', 'oma', 'man', 'ant', 'nte', 'egi', 'gin', 'ine', 'net', 'eti', 'tig', 'igo', 'tom', 'omo', 'bei', 'fra', 'ran', 'anc', 'nce', 'ces', 'esc', 'sco', 'bon', 'ons', 'nsi', 'sig', 'ign', 'gno', 'nor', 'ori', 'luc', 'ucc', 'cca', 'ang', 'nge', 'gel', 'elo', 'pez', 'ezz', 'zza', 'zan', 'ana', 'sto', 'tor', 'ori', 'ria', 'del', 'ell', 'lla', 'cit', 'itt', 'par', 'arm', 'rma', 'con', 'ont', 'nti', 'tin', 'inu', 'nua', 'uat', 'ata', 'tom', 'omo', 'duc', 'uca', 'cal', 'ale', 'tip', 'ipo', 'pog', 'ogr', 'gra', 'raf', 'afi', 'fia', 'par', 'arm', 'rma', 'web', 'ebl', 'bli', 'lin', 'ink', 'nks', 'das', 'qar', 'ara', 'ras', 'ass', 'ssa', 'sai', 'ais', 'ist', 'sta', 'tad', 'adi', 'dio', 'ion', 'kas', 'asa', 'sac', 'ach', 'chi', 'his', 'isc', 'sch', 'kar', 'ara', 'ras', 'asa', 'sta', 'tad', 'ado', 'don', 'ony', 'rus', 'uss', 'ssi', 'sis', 'isc', 'sch', 'sta', 'tad', 'adi', 'dio', 'ion', 'kar', 'ara', 'ras', 'ass', 'ssa', 'sai', 'ist', 'ein', 'fus', 'uss', 'ssb', 'sba', 'bal', 'all', 'und']\n",
      "4. Anzahl aller 3-Gramme: 1177\n",
      "5. Anzahl aller eindeutigen 3-Gramme: {'auf', 'cqu', 'oce', 'cam', 'inu', 'rbl', 'erz', 'uat', 'hal', 'egi', 'wei', 'zte', 'eke', 'ntf', 'ter', 'spr', 'run', 'rkg', 'edl', 'igl', 'aus', 'fon', 'lal', 'bla', 'cca', 'par', 'ipo', 'ndr', 'ena', 'end', 'egu', 'rte', 'uar', 'cit', 'des', 'hic', 'ont', 'ser', 'ach', 'ens', 'qua', 'occ', 'uel', 'gen', 'ine', 'boe', 'amp', 'fus', 'car', 'esa', 'poe', 'ims', 'uca', 'ene', 'dez', 'fri', 'urm', 'tom', 'zud', 'bae', 'hre', 'rmi', 'ell', 'ngn', 'ben', 'dem', 'ech', 'hat', 'bil', 'arc', 'rso', 'obe', 'egt', 'tst', 'ute', 'eni', 'nsi', 'sin', 'son', 'esc', 'ied', 'aue', 'pez', 'ela', 'zzi', 'noc', 'tal', 'leu', 'iss', 'rzi', 'lna', 'mer', 'agn', 'bek', 'zel', 'nna', 'per', 'chk', 'man', 'mil', 'kig', 'mge', 'ieb', 'ria', 'hwe', 'sbu', 'nef', 'oni', 'ole', 'emo', 'his', 'dic', 'pog', 'gda', 'rme', 'jah', 'arb', 'web', 'gte', 'rke', 'eal', 'rug', 'kir', 'ita', 'fin', 'und', 'ftr', 'mse', 'tha', 'aeu', 'inz', 'ede', 'sse', 'iar', 'raf', 'ino', 'bau', 'las', 'alt', 'ann', 'sle', 'ile', 'irc', 'hoe', 'wis', 'ffe', 'rag', 'ano', 'fue', 'ieg', 'men', 'nth', 'aol', 'hin', 'enn', 'mem', 'ara', 'zur', 'omo', 'str', 'oss', 'nga', 'ebe', 'nto', 'neb', 'kwe', 'eba', 'inn', 'bes', 'mit', 'ete', 'ken', 'lla', 'ige', 'rri', 'nso', 'tur', 'fen', 'gna', 'tei', 'oer', 'rmu', 'ade', 'pri', 'rie', 'anc', 'hne', 'obi', 'rhu', 'som', 'rts', 'lue', 'mag', 'arm', 'eka', 'tue', 'hke', 'ueb', 'sso', 'nke', 'all', 'dfl', 'lle', 'via', 'reg', 'sdi', 'mpe', 'urc', 'enl', 'tig', 'foe', 'eit', 'sim', 'enz', 'ind', 'afe', 'hab', 'efi', 'ert', 'fas', 'wer', 'abg', 'sai', 'bef', 'kas', 'dur', 'nzu', 'sol', 'bon', 'etz', 'ame', 'nob', 'con', 'ich', 'ung', 'nin', 'sta', 'ssn', 'nac', 'chi', 'ufe', 'lte', 'onk', 'ezu', 'eic', 'tec', 'ude', 'tfe', 'uss', 'nei', 'aru', 'ued', 'eln', 'rde', 'ral', 'bur', 'cal', 'equ', 'cen', 'erk', 'rch', 'ort', 'ckw', 'ibu', 'cch', 'onn', 'ite', 'aet', 'nde', 'nes', 'soe', 'can', 'hla', 'hen', 'ing', 'ebl', 'ern', 'eri', 'zan', 'san', 'bli', 'luc', 'lin', 'tor', 'hun', 'seq', 'nnz', 'tam', 'dlu', 'toc', 'sch', 'rbe', 'adi', 'duc', 'ere', 'rli', 'oes', 'ais', 'sei', 'ngs', 'bei', 'acq', 'nze', 'rlo', 'nio', 'gsp', 'mut', 'eil', 'eff', 'nks', 'gan', 'ent', 'ihe', 'ale', 'ber', 'lta', 'rae', 'chn', 'ink', 'com', 'dor', 'urd', 'hrh', 'lun', 'hri', 'tbe', 'ign', 'ali', 'mau', 'eru', 'cad', 'els', 'cki', 'gno', 'ege', 'nsl', 'eih', 'aut', 'sic', 'gsb', 'tad', 'emb', 'pao', 'rca', 'nie', 'ili', 'geg', 'ado', 'edf', 'tod', 'tip', 'ast', 'ren', 'lli', 'sco', 'umg', 'tat', 'kgr', 'nbe', 'unb', 'rom', 'ori', 'sto', 'rnt', 'nge', 'esi', 'rec', 'meh', 'eis', 'gek', 'spo', 'ult', 'nan', 'aro', 'den', 'kei', 'tmi', 'abe', 'hrm', 'ana', 'rei', 'uda', 'lan', 'sig', 'ohe', 'uer', 'asa', 'gro', 'utl', 'sas', 'emi', 'bev', 'ufg', 'mor', 'nor', 'isc', 'rma', 'her', 'erm', 'ony', 'chw', 'izz', 'der', 'ise', 'arl', 'mbe', 'hte', 'pae', 'ehe', 'net', 'etm', 'mpa', 'eut', 'urg', 'let', 'rea', 'qar', 'erl', 'ssi', 'ers', 'rus', 'evi', 'ten', 'nce', 'dbo', 'zza', 'ssb', 'kon', 'hra', 'ons', 'gun', 'lia', 'fam', 'tet', 'tes', 'ahe', 'ros', 'als', 'unt', 'eib', 'oen', 'sen', 'itt', 'sac', 'ein', 'gli', 'hoh', 'chr', 'mal', 'nzo', 'sad', 'cho', 'ehr', 'bun', 'rti', 'oma', 'tte', 'gem', 'ugo', 'gio', 'gel', 'err', 'ran', 'ner', 'ruf', 'kan', 'eig', 'rre', 'uft', 'fru', 'sne', 'dri', 'edi', 'omm', 'gas', 'ien', 'nua', 'nte', 'ssa', 'rta', 'llo', 'mme', 'mig', 'ric', 'nno', 'oge', 'wur', 'ndb', 'bte', 'flu', 'nti', 'ras', 'zie', 'oeg', 'igo', 'zwe', 'ist', 'dar', 'nen', 'bal', 'nem', 'hez', 'nah', 'ger', 'fge', 'fia', 'nsc', 'gin', 'vil', 'chl', 'cas', 'nnt', 'gra', 'sul', 'afi', 'ueg', 'wog', 'ces', 'est', 'sis', 'ank', 'ges', 'tzt', 'len', 'leh', 'lfo', 'umb', 'tel', 'ors', 'ris', 'ant', 'ahr', 'eck', 'mar', 'hie', 'ark', 'gon', 'ver', 'sue', 'das', 'ted', 'che', 'lel', 'olo', 'bge', 'fra', 'ock', 'ami', 'rsc', 'mba', 'geb', 'ans', 'nis', 'nni', 'rin', 'kar', 'pan', 'nam', 'lsd', 'res', 'vor', 'que', 'ass', 'von', 'ste', 'esu', 'elo', 'del', 'aua', 'riz', 'ata', 'ton', 'nli', 'zwi', 'att', 'ion', 'aeg', 'eid', 'don', 'tra', 'cht', 'hia', 'alf', 'rsp', 'lie', 'kel', 'fer', 'zem', 'lac', 'spa', 'sid', 'rbt', 'gse', 'gru', 'ngd', 'lic', 'bre', 'oeh', 'dio', 'die', 'ate', 'beg', 'eti', 'ang', 'por', 'ucc', 'zei', 'lab', 'sie', 'ogr', 'eze', 'atb', 'ide', 'tli', 'bat', 'hon', 'tin', 'aba', 'eud', 'ila', 'sba', 'erb', 'ezz'}\n",
      "5. Anzahl aller eindeutigen 3-Gramme: 623\n"
     ]
    }
   ],
   "source": [
    "# 1 \n",
    "random_text_2k_de = random_text(2000)\n",
    "print(print(f\"2. & 3.: {random_text_2k_de}\"))\n",
    "# 2 & 3\n",
    "n_gramm_list = [ n_gramm_atom for wort in random_text_2k_de.split(\" \") for n_gramm_atom in n_gramm(wort)] # ich weiß, dass ist dummer Code. War nur ein Test\n",
    "print(f\"2. & 3.: {n_gramm_list}\")\n",
    "# 4\n",
    "print(f\"4. Anzahl aller 3-Gramme: {len(n_gramm_list)}\")\n",
    "# 5\n",
    "print(f\"5. Anzahl aller eindeutigen 3-Gramme: {set(n_gramm_list)}\")\n",
    "print(f\"5. Anzahl aller eindeutigen 3-Gramme: {len(set(n_gramm_list))}\")"
   ]
  }
 ],
 "metadata": {
  "kernelspec": {
   "display_name": ".venv",
   "language": "python",
   "name": "python3"
  },
  "language_info": {
   "codemirror_mode": {
    "name": "ipython",
    "version": 3
   },
   "file_extension": ".py",
   "mimetype": "text/x-python",
   "name": "python",
   "nbconvert_exporter": "python",
   "pygments_lexer": "ipython3",
   "version": "3.13.7"
  },
  "varInspector": {
   "cols": {
    "lenName": 16,
    "lenType": 16,
    "lenVar": 40
   },
   "kernels_config": {
    "python": {
     "delete_cmd_postfix": "",
     "delete_cmd_prefix": "del ",
     "library": "var_list.py",
     "varRefreshCmd": "print(var_dic_list())"
    },
    "r": {
     "delete_cmd_postfix": ") ",
     "delete_cmd_prefix": "rm(",
     "library": "var_list.r",
     "varRefreshCmd": "cat(var_dic_list()) "
    }
   },
   "types_to_exclude": [
    "module",
    "function",
    "builtin_function_or_method",
    "instance",
    "_Feature"
   ],
   "window_display": false
  }
 },
 "nbformat": 4,
 "nbformat_minor": 4
}
